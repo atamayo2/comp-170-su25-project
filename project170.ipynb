{
  "cells": [
    {
      "cell_type": "markdown",
      "metadata": {
        "id": "view-in-github",
        "colab_type": "text"
      },
      "source": [
        "<a href=\"https://colab.research.google.com/github/atamayo2/comp-170-su25-project/blob/main/project170.ipynb\" target=\"_parent\"><img src=\"https://colab.research.google.com/assets/colab-badge.svg\" alt=\"Open In Colab\"/></a>"
      ]
    },
    {
      "cell_type": "markdown",
      "metadata": {
        "id": "yfAB5kR_H0HW"
      },
      "source": [
        "#File Starter\n",
        "\n",
        "\n",
        "---\n",
        "\n"
      ]
    },
    {
      "cell_type": "code",
      "execution_count": 40,
      "metadata": {
        "colab": {
          "base_uri": "https://localhost:8080/"
        },
        "collapsed": true,
        "id": "VFYICnhtEpZt",
        "outputId": "060f7a6d-02b8-4ce5-f6ee-065ef7327d55"
      },
      "outputs": [
        {
          "output_type": "stream",
          "name": "stdout",
          "text": [
            "fatal: destination path 'comp-170-su25-project' already exists and is not an empty directory.\n"
          ]
        }
      ],
      "source": [
        "!git clone https://github.com/lgreco/comp-170-su25-project.git\n"
      ]
    },
    {
      "cell_type": "code",
      "execution_count": 88,
      "metadata": {
        "id": "nt49v4HhQk1G"
      },
      "outputs": [],
      "source": [
        "import csv\n",
        "import sys\n",
        "sys.path.append(\"/content/comp-170-su25-project/\")  # only need folder\n",
        "from Birthday import Birthday\n",
        "from Friend import Person"
      ]
    },
    {
      "cell_type": "code",
      "source": [
        "import os\n",
        "print(os.getcwd())\n"
      ],
      "metadata": {
        "colab": {
          "base_uri": "https://localhost:8080/"
        },
        "id": "aEOXcucnsi_p",
        "outputId": "24600654-8db0-4696-a5f4-af0dc5a974a6"
      },
      "execution_count": 89,
      "outputs": [
        {
          "output_type": "stream",
          "name": "stdout",
          "text": [
            "/content\n"
          ]
        }
      ]
    },
    {
      "cell_type": "code",
      "source": [
        "from google.colab import files\n",
        "uploaded = files.upload()"
      ],
      "metadata": {
        "colab": {
          "base_uri": "https://localhost:8080/",
          "height": 73
        },
        "id": "UvJ6dtQUtTwd",
        "outputId": "56f6aa29-3c98-4f2e-bce4-dc1beae4aafd"
      },
      "execution_count": 93,
      "outputs": [
        {
          "output_type": "display_data",
          "data": {
            "text/plain": [
              "<IPython.core.display.HTML object>"
            ],
            "text/html": [
              "\n",
              "     <input type=\"file\" id=\"files-bb2b82e4-ac41-4a57-847d-01bfff9b9488\" name=\"files[]\" multiple disabled\n",
              "        style=\"border:none\" />\n",
              "     <output id=\"result-bb2b82e4-ac41-4a57-847d-01bfff9b9488\">\n",
              "      Upload widget is only available when the cell has been executed in the\n",
              "      current browser session. Please rerun this cell to enable.\n",
              "      </output>\n",
              "      <script>// Copyright 2017 Google LLC\n",
              "//\n",
              "// Licensed under the Apache License, Version 2.0 (the \"License\");\n",
              "// you may not use this file except in compliance with the License.\n",
              "// You may obtain a copy of the License at\n",
              "//\n",
              "//      http://www.apache.org/licenses/LICENSE-2.0\n",
              "//\n",
              "// Unless required by applicable law or agreed to in writing, software\n",
              "// distributed under the License is distributed on an \"AS IS\" BASIS,\n",
              "// WITHOUT WARRANTIES OR CONDITIONS OF ANY KIND, either express or implied.\n",
              "// See the License for the specific language governing permissions and\n",
              "// limitations under the License.\n",
              "\n",
              "/**\n",
              " * @fileoverview Helpers for google.colab Python module.\n",
              " */\n",
              "(function(scope) {\n",
              "function span(text, styleAttributes = {}) {\n",
              "  const element = document.createElement('span');\n",
              "  element.textContent = text;\n",
              "  for (const key of Object.keys(styleAttributes)) {\n",
              "    element.style[key] = styleAttributes[key];\n",
              "  }\n",
              "  return element;\n",
              "}\n",
              "\n",
              "// Max number of bytes which will be uploaded at a time.\n",
              "const MAX_PAYLOAD_SIZE = 100 * 1024;\n",
              "\n",
              "function _uploadFiles(inputId, outputId) {\n",
              "  const steps = uploadFilesStep(inputId, outputId);\n",
              "  const outputElement = document.getElementById(outputId);\n",
              "  // Cache steps on the outputElement to make it available for the next call\n",
              "  // to uploadFilesContinue from Python.\n",
              "  outputElement.steps = steps;\n",
              "\n",
              "  return _uploadFilesContinue(outputId);\n",
              "}\n",
              "\n",
              "// This is roughly an async generator (not supported in the browser yet),\n",
              "// where there are multiple asynchronous steps and the Python side is going\n",
              "// to poll for completion of each step.\n",
              "// This uses a Promise to block the python side on completion of each step,\n",
              "// then passes the result of the previous step as the input to the next step.\n",
              "function _uploadFilesContinue(outputId) {\n",
              "  const outputElement = document.getElementById(outputId);\n",
              "  const steps = outputElement.steps;\n",
              "\n",
              "  const next = steps.next(outputElement.lastPromiseValue);\n",
              "  return Promise.resolve(next.value.promise).then((value) => {\n",
              "    // Cache the last promise value to make it available to the next\n",
              "    // step of the generator.\n",
              "    outputElement.lastPromiseValue = value;\n",
              "    return next.value.response;\n",
              "  });\n",
              "}\n",
              "\n",
              "/**\n",
              " * Generator function which is called between each async step of the upload\n",
              " * process.\n",
              " * @param {string} inputId Element ID of the input file picker element.\n",
              " * @param {string} outputId Element ID of the output display.\n",
              " * @return {!Iterable<!Object>} Iterable of next steps.\n",
              " */\n",
              "function* uploadFilesStep(inputId, outputId) {\n",
              "  const inputElement = document.getElementById(inputId);\n",
              "  inputElement.disabled = false;\n",
              "\n",
              "  const outputElement = document.getElementById(outputId);\n",
              "  outputElement.innerHTML = '';\n",
              "\n",
              "  const pickedPromise = new Promise((resolve) => {\n",
              "    inputElement.addEventListener('change', (e) => {\n",
              "      resolve(e.target.files);\n",
              "    });\n",
              "  });\n",
              "\n",
              "  const cancel = document.createElement('button');\n",
              "  inputElement.parentElement.appendChild(cancel);\n",
              "  cancel.textContent = 'Cancel upload';\n",
              "  const cancelPromise = new Promise((resolve) => {\n",
              "    cancel.onclick = () => {\n",
              "      resolve(null);\n",
              "    };\n",
              "  });\n",
              "\n",
              "  // Wait for the user to pick the files.\n",
              "  const files = yield {\n",
              "    promise: Promise.race([pickedPromise, cancelPromise]),\n",
              "    response: {\n",
              "      action: 'starting',\n",
              "    }\n",
              "  };\n",
              "\n",
              "  cancel.remove();\n",
              "\n",
              "  // Disable the input element since further picks are not allowed.\n",
              "  inputElement.disabled = true;\n",
              "\n",
              "  if (!files) {\n",
              "    return {\n",
              "      response: {\n",
              "        action: 'complete',\n",
              "      }\n",
              "    };\n",
              "  }\n",
              "\n",
              "  for (const file of files) {\n",
              "    const li = document.createElement('li');\n",
              "    li.append(span(file.name, {fontWeight: 'bold'}));\n",
              "    li.append(span(\n",
              "        `(${file.type || 'n/a'}) - ${file.size} bytes, ` +\n",
              "        `last modified: ${\n",
              "            file.lastModifiedDate ? file.lastModifiedDate.toLocaleDateString() :\n",
              "                                    'n/a'} - `));\n",
              "    const percent = span('0% done');\n",
              "    li.appendChild(percent);\n",
              "\n",
              "    outputElement.appendChild(li);\n",
              "\n",
              "    const fileDataPromise = new Promise((resolve) => {\n",
              "      const reader = new FileReader();\n",
              "      reader.onload = (e) => {\n",
              "        resolve(e.target.result);\n",
              "      };\n",
              "      reader.readAsArrayBuffer(file);\n",
              "    });\n",
              "    // Wait for the data to be ready.\n",
              "    let fileData = yield {\n",
              "      promise: fileDataPromise,\n",
              "      response: {\n",
              "        action: 'continue',\n",
              "      }\n",
              "    };\n",
              "\n",
              "    // Use a chunked sending to avoid message size limits. See b/62115660.\n",
              "    let position = 0;\n",
              "    do {\n",
              "      const length = Math.min(fileData.byteLength - position, MAX_PAYLOAD_SIZE);\n",
              "      const chunk = new Uint8Array(fileData, position, length);\n",
              "      position += length;\n",
              "\n",
              "      const base64 = btoa(String.fromCharCode.apply(null, chunk));\n",
              "      yield {\n",
              "        response: {\n",
              "          action: 'append',\n",
              "          file: file.name,\n",
              "          data: base64,\n",
              "        },\n",
              "      };\n",
              "\n",
              "      let percentDone = fileData.byteLength === 0 ?\n",
              "          100 :\n",
              "          Math.round((position / fileData.byteLength) * 100);\n",
              "      percent.textContent = `${percentDone}% done`;\n",
              "\n",
              "    } while (position < fileData.byteLength);\n",
              "  }\n",
              "\n",
              "  // All done.\n",
              "  yield {\n",
              "    response: {\n",
              "      action: 'complete',\n",
              "    }\n",
              "  };\n",
              "}\n",
              "\n",
              "scope.google = scope.google || {};\n",
              "scope.google.colab = scope.google.colab || {};\n",
              "scope.google.colab._files = {\n",
              "  _uploadFiles,\n",
              "  _uploadFilesContinue,\n",
              "};\n",
              "})(self);\n",
              "</script> "
            ]
          },
          "metadata": {}
        },
        {
          "output_type": "stream",
          "name": "stdout",
          "text": [
            "Saving friends_database.csv to friends_database (1).csv\n"
          ]
        }
      ]
    },
    {
      "cell_type": "code",
      "source": [
        "from google.colab import files\n",
        "files.download(\"friends_database.csv\")\n"
      ],
      "metadata": {
        "colab": {
          "base_uri": "https://localhost:8080/",
          "height": 17
        },
        "collapsed": true,
        "id": "hVklPIXVxs-8",
        "outputId": "179e47a5-3641-4300-a460-06c54594078c"
      },
      "execution_count": 94,
      "outputs": [
        {
          "output_type": "display_data",
          "data": {
            "text/plain": [
              "<IPython.core.display.Javascript object>"
            ],
            "application/javascript": [
              "\n",
              "    async function download(id, filename, size) {\n",
              "      if (!google.colab.kernel.accessAllowed) {\n",
              "        return;\n",
              "      }\n",
              "      const div = document.createElement('div');\n",
              "      const label = document.createElement('label');\n",
              "      label.textContent = `Downloading \"${filename}\": `;\n",
              "      div.appendChild(label);\n",
              "      const progress = document.createElement('progress');\n",
              "      progress.max = size;\n",
              "      div.appendChild(progress);\n",
              "      document.body.appendChild(div);\n",
              "\n",
              "      const buffers = [];\n",
              "      let downloaded = 0;\n",
              "\n",
              "      const channel = await google.colab.kernel.comms.open(id);\n",
              "      // Send a message to notify the kernel that we're ready.\n",
              "      channel.send({})\n",
              "\n",
              "      for await (const message of channel.messages) {\n",
              "        // Send a message to notify the kernel that we're ready.\n",
              "        channel.send({})\n",
              "        if (message.buffers) {\n",
              "          for (const buffer of message.buffers) {\n",
              "            buffers.push(buffer);\n",
              "            downloaded += buffer.byteLength;\n",
              "            progress.value = downloaded;\n",
              "          }\n",
              "        }\n",
              "      }\n",
              "      const blob = new Blob(buffers, {type: 'application/binary'});\n",
              "      const a = document.createElement('a');\n",
              "      a.href = window.URL.createObjectURL(blob);\n",
              "      a.download = filename;\n",
              "      div.appendChild(a);\n",
              "      a.click();\n",
              "      div.remove();\n",
              "    }\n",
              "  "
            ]
          },
          "metadata": {}
        },
        {
          "output_type": "display_data",
          "data": {
            "text/plain": [
              "<IPython.core.display.Javascript object>"
            ],
            "application/javascript": [
              "download(\"download_cec4fd5c-5c50-4ada-a7f7-82d6ddf9b8cc\", \"friends_database.csv\", 211)"
            ]
          },
          "metadata": {}
        }
      ]
    },
    {
      "cell_type": "code",
      "source": [
        "import os\n",
        "print(os.listdir('/content'))\n"
      ],
      "metadata": {
        "colab": {
          "base_uri": "https://localhost:8080/"
        },
        "id": "r36cmGa0tEiT",
        "outputId": "5594fda0-6bd2-4ebc-864f-7e8b0f82a6fe"
      },
      "execution_count": 95,
      "outputs": [
        {
          "output_type": "stream",
          "name": "stdout",
          "text": [
            "['.config', '.ipynb_checkpoints', 'friends_database.csv', 'comp-170-su25-project', 'sample_data']\n"
          ]
        }
      ]
    },
    {
      "cell_type": "code",
      "execution_count": 99,
      "metadata": {
        "id": "aHrheWiMOB4U"
      },
      "outputs": [],
      "source": [
        "import csv\n",
        "import os\n",
        "# These imports will give us the data from each file\n",
        "from Birthday import Birthday\n",
        "from Friend import Person\n",
        " # There is no person file so we are changing\n",
        " # Friend to Person so that the code can run\n",
        "\n",
        "friends = [] # The empty list gives lets be able to add more to the list\n",
        "# and holds the friennd records of the person objects\n",
        "with open('friends_database.csv', newline='') as csvfile: # opens our file that has the friends data\n",
        "# the newline '' prevents extra lines\n",
        "    reader = csv.DictReader(csvfile) # the dict creates a dictionary which is just our objects with rows and columns number\n",
        "    for row in reader:\n",
        "        p = Person(row['first_name'], row['last_name']) # change person to object prevents from having loose strings\n",
        "        p.set_birthday(int(row['birth_month']), int(row['birth_day'])) # csv reads integers as strings not numbers\n",
        "        p.set_city(row['city'])\n",
        "        friends.append(p)\n",
        "\n"
      ]
    },
    {
      "cell_type": "markdown",
      "source": [
        "If friends information is edited; this is the new code\n",
        "\n",
        "---\n",
        "\n"
      ],
      "metadata": {
        "id": "q1JBeh1b_c3I"
      }
    },
    {
      "cell_type": "code",
      "source": [
        "def save_friends_to_csv(friends, filename=\"friends_database.csv\"):\n",
        "    # Open the CSV file\n",
        "    with open(filename, 'w', newline='') as file:\n",
        "        fieldnames = ['first_name', 'last_name', 'birth_month', 'birth_day', 'city']\n",
        "        writer = csv.DictWriter(file, fieldnames=fieldnames)\n",
        "\n",
        "        # Write the header row to the CSV file\n",
        "        writer.writeheader()\n",
        "\n",
        "        # Write each friend's details to the CSV file\n",
        "        for friend in friends:\n",
        "            writer.writerow({\n",
        "                'first_name': friend.first_name,\n",
        "                'last_name': friend.last_name,\n",
        "                'birth_month': friend.birthday.get_month() if friend.birthday else '',\n",
        "                'birth_day': friend.birthday.get_day() if friend.birthday else '',\n",
        "                'city': friend.city})\n",
        "\n",
        "    print(f\"Saved friends to {filename}\")\n"
      ],
      "metadata": {
        "id": "XiTilKa5AWXb"
      },
      "execution_count": 105,
      "outputs": []
    },
    {
      "cell_type": "code",
      "source": [
        "def load_friends_from_csv(filename=\"friends_database.csv\"):\n",
        "    friends = []\n",
        "    try:\n",
        "        with open(filename, newline='') as csvfile:\n",
        "            reader = csv.DictReader(csvfile)\n",
        "            for row in reader:\n",
        "                p = Person(row['first_name'], row['last_name'])\n",
        "\n",
        "                try:\n",
        "                    month = int(row['birth_month'])\n",
        "                    day = int(row['birth_day'])\n",
        "                    p.set_birthday(month, day)\n",
        "                except:\n",
        "                    pass  # no birthday\n",
        "\n",
        "                p.set_city(row['city'])\n",
        "                friends.append(p)\n",
        "    except FileNotFoundError:\n",
        "        print(\"CSV not found\")\n",
        "    return friends\n"
      ],
      "metadata": {
        "id": "esMQwv2FJOlu"
      },
      "execution_count": 106,
      "outputs": []
    },
    {
      "cell_type": "markdown",
      "metadata": {
        "id": "-W1tRYACNQ2M"
      },
      "source": [
        "#**Starting Friend List**\n",
        "---\n",
        "\n"
      ]
    },
    {
      "cell_type": "markdown",
      "source": [
        "This is what i want to see when i get a return for introduction:"
      ],
      "metadata": {
        "id": "K-Gvnr7LSBbj"
      }
    },
    {
      "cell_type": "code",
      "execution_count": 107,
      "metadata": {
        "id": "tRgCyp5ERGsQ"
      },
      "outputs": [],
      "source": [
        "def __str__(self):\n",
        "  return f\"{self.first_name} {self.last_name}\"\n",
        "\n",
        "def introduce(self):\n",
        "  print(f\"Hello, my name is {self.first_name} i will be helping my friends, and my birthday is on {self.birthday} \")\n",
        "  print (f\"I was born and raised in {self.city}\")"
      ]
    },
    {
      "cell_type": "markdown",
      "metadata": {
        "id": "M41I-qigoaDz"
      },
      "source": [
        "# **Inputs and Returns**\n",
        "\n",
        "---\n",
        "\n"
      ]
    },
    {
      "cell_type": "markdown",
      "metadata": {
        "id": "Y7uFcbGMozs8"
      },
      "source": [
        "Now we will start doing inputs so that the return statments can give us what we asked for. The return statments should be from the menu options given if not then we get a try again response."
      ]
    },
    {
      "cell_type": "code",
      "execution_count": 108,
      "metadata": {
        "id": "8tk7zpSxn3Tm"
      },
      "outputs": [],
      "source": [
        "# The command should return these options where we can then write in given box\n",
        "# what we choose.\n",
        "def show_menu():\n",
        "  print(\"\\nMenu:\") # need to put n after \\ so that it creates a new line\n",
        "  print(\"1 -Create new friend record\")\n",
        "  print(\"2 - Search for a friend\")\n",
        "  print(\"3 - Edit a friend\")\n",
        "  print(\"4 - Delete a friend\")\n",
        "  print(\"5 - Run reports\")\n",
        "  print(\"6 - Exit\")"
      ]
    },
    {
      "cell_type": "markdown",
      "source": [
        "Cell will give us an 'while' and 'else' statment. When choosing our options from the menu it should return questions. For option 1 these are what we get in\n",
        "response.\n",
        "\n",
        "\n",
        "---\n",
        "\n",
        "\n"
      ],
      "metadata": {
        "id": "kjJCLmr7Qixh"
      }
    },
    {
      "cell_type": "code",
      "execution_count": 109,
      "metadata": {
        "collapsed": true,
        "id": "lN3XetzYqdcN",
        "colab": {
          "base_uri": "https://localhost:8080/"
        },
        "outputId": "a31ce774-299a-4dc3-94c9-620741855f4f"
      },
      "outputs": [
        {
          "output_type": "stream",
          "name": "stdout",
          "text": [
            "\n",
            "Menu:\n",
            "1 -Create new friend record\n",
            "2 - Search for a friend\n",
            "3 - Edit a friend\n",
            "4 - Delete a friend\n",
            "5 - Run reports\n",
            "6 - Exit\n",
            "Enter your choice (1-6): 6\n",
            "Exiting program.\n"
          ]
        }
      ],
      "source": [
        "while True:\n",
        "  show_menu()\n",
        "  choice = input(\"Enter your choice (1-6): \")\n",
        "\n",
        "  if choice == \"1\":\n",
        "    first_name = input(\"Enter first name: \") # We are doing this because we are adding a fake friend\n",
        "    last_name = input(\"Enter last name: \")\n",
        "    new_friend_added = Person(first_name, last_name)\n",
        "    friends.append(new_friend_added) # This command saves the new friend\n",
        "\n",
        "    # After we save our friend, the prompt should show us the first and last name of new friend\n",
        "    # I also added for it to show us our whole friends list too, to make sure new friend is saved.\n",
        "    print(f\"Friend added: {new_friend_added} \")\n",
        "    print(\"Current friends list:\")\n",
        "    for f in friends:\n",
        "      print(f\"-{f}\") # Here we are asking for our printed object string (our friends) and the\n",
        "                    # {f} prints the person command\n",
        "\n",
        "  elif choice == \"2\":\n",
        "    print(\"Search for a friend- (not created yet)\")\n",
        "\n",
        "  elif choice ==\"3\":\n",
        "    print(\"Edit a friend-(not created yet)\")\n",
        "\n",
        "  elif choice == \"4\":\n",
        "    print(\"Delete a friend-(not created yet)\")\n",
        "\n",
        "  elif choice == \"5\":\n",
        "    print(\"Run reports-(not created yet)\")\n",
        "\n",
        "  elif choice == \"6\":\n",
        "    print(\"Exiting program.\")\n",
        "    break # Take us out of the program\n",
        "  else:\n",
        "    print(\"Invalid choice. Please try again.\")\n",
        "     # If we choose anything that is not in our menu, we get try again prompts"
      ]
    },
    {
      "cell_type": "markdown",
      "source": [
        "After we save our friend, the prompt should show us the first and last name of new friend.\n"
      ],
      "metadata": {
        "id": "s9Cv0TmDQ-tw"
      }
    },
    {
      "cell_type": "code",
      "source": [
        "    print(\"Current friends list:\")\n",
        "    for f in friends:\n",
        "      print(f\"-{f}\") # Here we are asking for our printed object string (our friends) and the\n",
        "                     # {f} prints the person command\n"
      ],
      "metadata": {
        "collapsed": true,
        "id": "xWgVxch4RF8v",
        "colab": {
          "base_uri": "https://localhost:8080/"
        },
        "outputId": "b3472c9f-43a3-45c0-d95e-b9ef8805a120"
      },
      "execution_count": 110,
      "outputs": [
        {
          "output_type": "stream",
          "name": "stdout",
          "text": [
            "Current friends list:\n",
            "-[ Alex Tamayo]\n",
            "-[ Obi Iheme]\n",
            "-[ Aryn Burke]\n",
            "-[ Nicole Tamayo]\n",
            "-[ Haley Hudson]\n",
            "-[ Kevin Loch]\n"
          ]
        }
      ]
    },
    {
      "cell_type": "markdown",
      "source": [
        "### **Menu choice 2**\n",
        "---\n",
        "##### We are moving on to choice 2; where we should be able to search for a friend.\n",
        "\n",
        "---\n",
        "\n"
      ],
      "metadata": {
        "id": "0HXO-Q9VR_EN"
      }
    },
    {
      "cell_type": "code",
      "source": [
        "while True: # Starts our loop until we exit\n",
        "  show_menu()\n",
        "  choice = input(\"Enter your choice (1-6): \") # Pulling up menu choices\n",
        "\n",
        "  if choice == \"2\": # Choose option 2\n",
        "    first_name = input(\"Enter first name: \") # Choose the friend name\n",
        "    last_name = input(\"Enter last name: \")\n",
        "    friend_found = None # if friend is not found\n",
        "    # It should return this command, their whole name...\n",
        "\n",
        "# Now what if we searched up a friend that does not exist? The response should come out as\n",
        "# nothing and take us back to the menu before exiting program..\n",
        "    for friend in friends:  # Becomes a loop because of the 'for' and 'in' statements\n",
        "      if friend.first_name == first_name and friend.last_name == last_name:\n",
        "        friend_found = friend\n",
        "        break # Ends if friend found\n",
        "\n",
        "    if friend_found:\n",
        "      print(f\"Friend found: {friend_found}\")\n",
        "    else:\n",
        "      print(\"Person does not exist. Please try again.\")\n",
        "  # This break prevents us from going in a loop. Since the command above\n",
        "        # puts us in a loop until an answer is found the break stops it if there is no answer.\n",
        "# Helps us exit with bottom command\n",
        "\n",
        "  elif choice == \"6\":\n",
        "    print(\"Exiting program.\")\n",
        "    break # Take us out of the program\n",
        "  else:\n",
        "    print(\"Invalid choice. Please try again.\")\n",
        "     # If we choose anything that is not in our menu, we get try again prompts"
      ],
      "metadata": {
        "colab": {
          "base_uri": "https://localhost:8080/"
        },
        "collapsed": true,
        "id": "poP_El0CoBCt",
        "outputId": "5b5db433-a173-421a-9b81-162f624cfca6"
      },
      "execution_count": 111,
      "outputs": [
        {
          "output_type": "stream",
          "name": "stdout",
          "text": [
            "\n",
            "Menu:\n",
            "1 -Create new friend record\n",
            "2 - Search for a friend\n",
            "3 - Edit a friend\n",
            "4 - Delete a friend\n",
            "5 - Run reports\n",
            "6 - Exit\n",
            "Enter your choice (1-6): 6\n",
            "Exiting program.\n"
          ]
        }
      ]
    },
    {
      "cell_type": "markdown",
      "source": [
        "##**Menu option 3**\n",
        "\n",
        "---\n",
        "\n"
      ],
      "metadata": {
        "id": "IjeWJCf6hyJx"
      }
    },
    {
      "cell_type": "code",
      "source": [
        "def save_friends_to_csv(friends, filename=\"friends_database.csv\"):\n",
        "    with open(filename, 'w', newline='') as file:\n",
        "        fieldnames = ['first_name', 'last_name', 'birth_month', 'birth_day', 'city']\n",
        "        writer = csv.DictWriter(file, fieldnames=fieldnames)\n",
        "\n",
        "        writer.writeheader()\n",
        "        for friend in friends:\n",
        "            writer.writerow({\n",
        "                'first_name': friend.first_name,\n",
        "                'last_name': friend.last_name,\n",
        "                'birth_month': friend.birthday.get_month() if friend.birthday else '',\n",
        "                'birth_day': friend.birthday.get_day() if friend.birthday else '',\n",
        "                'city': friend.city})\n",
        "    print(f\"Saved friends to {filename}\")\n"
      ],
      "metadata": {
        "id": "rDxe7QyHJzH3"
      },
      "execution_count": 112,
      "outputs": []
    },
    {
      "cell_type": "code",
      "source": [
        "while True:\n",
        "  show_menu()\n",
        "  choice = input(\"Enter your choice (1-6): \")\n",
        "\n",
        "  if choice == \"3\":\n",
        "    first_name = input(\"Enter first name: \")\n",
        "    last_name = input(\"Enter last name: \")\n",
        "    friend_found = None\n",
        "\n",
        "    for friend in friends:\n",
        "      if friend.first_name.lower() == first_name.lower() and friend.last_name.lower() == last_name.lower():\n",
        "        friend_found = friend\n",
        "        break\n",
        "\n",
        "    if friend_found:\n",
        "      print(f\"Found friend: {friend_found}\")\n",
        "      print(\"What do you want to do?\")\n",
        "      print(\"1. Edit friend\")\n",
        "      print(\"2. Delete friend\")\n",
        "      print(\"3. Cancel\")\n",
        "\n",
        "      edit_choice = input(\"Choose (1-3): \")\n",
        "\n",
        "      if edit_choice == \"1\":\n",
        "        print(\"Leave blank to keep current info.\")\n",
        "\n",
        "        new_first = input(f\"New first name ({friend_found.first_name}): \") or friend_found.first_name\n",
        "        new_last = input(f\"New last name ({friend_found.last_name}): \") or friend_found.last_name\n",
        "        new_city = input(f\"New city ({friend_found.city}): \") or friend_found.city\n",
        "\n",
        "        if friend_found.birthday:\n",
        "          old_month = friend_found.birthday.get_month()\n",
        "          old_day = friend_found.birthday.get_day()\n",
        "        else:\n",
        "          old_month = \"\"\n",
        "          old_day = \"\"\n",
        "\n",
        "        new_bday = input(f\"New birthday MM DD ({old_month} {old_day}): \")\n",
        "        if new_bday:\n",
        "          parts = new_bday.split()\n",
        "          if len(parts) == 2:\n",
        "            try:\n",
        "              new_month = int(parts[0])\n",
        "              new_day = int(parts[1])\n",
        "              friend_found.set_birthday(new_month, new_day)\n",
        "            except:\n",
        "              print(\"Invalid bday input. Kept old date.\")\n",
        "          else:\n",
        "            print(\"Invalid format. Should be MM DD.\")\n",
        "\n",
        "        friend_found.first_name = new_first\n",
        "        friend_found.last_name = new_last\n",
        "        friend_found.city = new_city\n",
        "        print(\"Friend updated.\")\n",
        "\n",
        "        save_friends_to_csv(friends, filename= \"friends_database.csv\")\n",
        "\n",
        "      elif edit_choice == \"2\":\n",
        "        friends.remove(friend_found)\n",
        "        print(\"Friend deleted.\")\n",
        "        save_friends_to_csv(friends, filename= \"friends_database.csv\")\n",
        "\n",
        "      elif edit_choice == \"3\":\n",
        "        print(\"Back to menu.\")\n",
        "\n",
        "      else:\n",
        "        print(\"Invalid option. Back to menu.\")\n",
        "\n",
        "    else:\n",
        "      print(\"Friend not found. Try again.\")\n",
        "\n",
        "  elif choice == \"6\":\n",
        "    print(\"Exiting program.\")\n",
        "    break\n",
        "\n",
        "  else:\n",
        "    print(\"Invalid choice. Try again.\")\n"
      ],
      "metadata": {
        "colab": {
          "base_uri": "https://localhost:8080/"
        },
        "collapsed": true,
        "id": "ZXHLUSgXaJH5",
        "outputId": "dde26414-2c88-4e8b-ee7b-285ed9c2cf5b"
      },
      "execution_count": 113,
      "outputs": [
        {
          "output_type": "stream",
          "name": "stdout",
          "text": [
            "\n",
            "Menu:\n",
            "1 -Create new friend record\n",
            "2 - Search for a friend\n",
            "3 - Edit a friend\n",
            "4 - Delete a friend\n",
            "5 - Run reports\n",
            "6 - Exit\n",
            "Enter your choice (1-6): 6\n",
            "Exiting program.\n"
          ]
        }
      ]
    },
    {
      "cell_type": "markdown",
      "source": [
        "## **Menu Option 4**\n",
        "\n",
        "---\n",
        "\n"
      ],
      "metadata": {
        "id": "NZzrPF1hLpmN"
      }
    },
    {
      "cell_type": "code",
      "source": [
        "while True:\n",
        "  show_menu()\n",
        "  choice = input(\"Enter your choice (1-6): \")\n",
        "\n",
        "  if choice == \"3\":\n",
        "    first_name = input(\"Enter first name: \")\n",
        "    last_name = input(\"Enter last name: \")\n",
        "    friend_found = None\n",
        "\n",
        "  elif choice == \"4\":  # Delete a friend\n",
        "    first_name = input(\"Enter first name of friend to delete: \")\n",
        "    last_name = input(\"Enter last name of friend to delete: \")\n",
        "    friend_to_delete = None\n",
        "\n",
        "    for friend in friends:\n",
        "        if friend.first_name.lower() == first_name.lower() and friend.last_name.lower() == last_name.lower():\n",
        "            friend_to_delete = friend\n",
        "            break\n",
        "\n",
        "    if friend_to_delete:\n",
        "        friends.remove(friend_to_delete)\n",
        "        print(f\"Deleted friend: {friend_to_delete.first_name} {friend_to_delete.last_name}\")\n",
        "        save_friends_to_csv(friends)\n",
        "    else:\n",
        "        print(\"Friend not found. Cannot delete.\")\n",
        "\n",
        "  elif choice == \"6\":\n",
        "      print(\"Exiting program.\")\n",
        "      break\n",
        "\n",
        "else:\n",
        "    print(\"Invalid choice. Try again.\")\n"
      ],
      "metadata": {
        "colab": {
          "base_uri": "https://localhost:8080/"
        },
        "collapsed": true,
        "id": "sW-5K0gjLiQo",
        "outputId": "c57d4554-cf8f-4f4f-e73f-e2bf1b00e368"
      },
      "execution_count": 114,
      "outputs": [
        {
          "output_type": "stream",
          "name": "stdout",
          "text": [
            "\n",
            "Menu:\n",
            "1 -Create new friend record\n",
            "2 - Search for a friend\n",
            "3 - Edit a friend\n",
            "4 - Delete a friend\n",
            "5 - Run reports\n",
            "6 - Exit\n",
            "Enter your choice (1-6): 6\n",
            "Exiting program.\n"
          ]
        }
      ]
    },
    {
      "cell_type": "markdown",
      "source": [
        "# **Reports**\n",
        "\n",
        "---\n",
        "\n"
      ],
      "metadata": {
        "id": "g16aHj2E5j6r"
      }
    },
    {
      "cell_type": "code",
      "execution_count": 115,
      "metadata": {
        "id": "eQP0g-UoxSko"
      },
      "outputs": [],
      "source": [
        "# This cell will help us run option 3 command.\n",
        "# We should be able to choose from the menu which report we want.\n",
        "\n",
        "def run_reports():\n",
        "  print(\"\\Menu:\")\n",
        "  print(\"3.1 - List of friends alphabetically\")\n",
        "  print(\"3.2 - List of friends by upcoming birthdays\")\n",
        "  print(\"3.3 - Mailing labels for friends\")\n",
        "  print(\"3.4 - Return to the previous menu\")"
      ]
    },
    {
      "cell_type": "code",
      "execution_count": 116,
      "metadata": {
        "collapsed": true,
        "id": "QMKeDKtasFRx",
        "colab": {
          "base_uri": "https://localhost:8080/"
        },
        "outputId": "32c20f4d-01c7-4bfc-bf71-3426e4850298"
      },
      "outputs": [
        {
          "output_type": "stream",
          "name": "stdout",
          "text": [
            "\n",
            "Menu:\n",
            "1 -Create new friend record\n",
            "2 - Search for a friend\n",
            "3 - Edit a friend\n",
            "4 - Delete a friend\n",
            "5 - Run reports\n",
            "6 - Exit\n",
            "Enter your choice (1-6): 6\n",
            "Exiting program.\n"
          ]
        }
      ],
      "source": [
        "# In option 3.1, if chosen, it should respond with our friends names\n",
        "# in order of last name to first name. A quick note: It should have our\n",
        "# added \"fake\" friend!\n",
        "while True:\n",
        "  show_menu()\n",
        "  choice = input(\"Enter your choice (1-6): \") # Pulling up main menu\n",
        "\n",
        "  if choice == \"5\":\n",
        "    run_reports()\n",
        "    report_choice = input(\"Enter your choice (3.1-3.4): \")\n",
        "\n",
        "    if report_choice == \"3.1\":\n",
        "      print(\"\\n 3.1-List of friends alphabetically:/n\")\n",
        "      sorted_alpha = sorted(friends, key=lambda friend: (friend.last_name, friend.first_name))\n",
        "\n",
        "      for friend in sorted_alpha: # This makes sure our friends list is sorted in alpha order\n",
        "        print(f\"{friend.last_name} {friend.first_name}\") # I made sure to put last name first\n",
        "                                                         # or else it would display\n",
        "                                                         # Ex. Aryn Burke (first to lastname alpha order)\n",
        "  elif choice == \"6\":\n",
        "    print(\"Exiting program.\")\n",
        "    break # Take us out of the program\n",
        "  else:\n",
        "    print(\"Invalid choice. Please try again.\")\n",
        "     # If we choose anything that is not in our menu, we get try again prompts\n"
      ]
    },
    {
      "cell_type": "markdown",
      "source": [
        "### **Menu option 5 with report 3.2**.\n",
        "\n",
        "---\n",
        "\n",
        "##### This option gives us our friends birthday(s).\n",
        "##### It should tell us the month and day left until their birthday. If we added a fake friend it will respond blank due to none excistent.\n",
        "\n",
        "---\n",
        "\n",
        "\n",
        "\n"
      ],
      "metadata": {
        "id": "nWgp6kWEzMoU"
      }
    },
    {
      "cell_type": "markdown",
      "source": [
        "####**First,** we need to add datetime so it runs acurately\n",
        "\n",
        "---\n",
        "\n"
      ],
      "metadata": {
        "id": "XGbgvBMLACLu"
      }
    },
    {
      "cell_type": "code",
      "source": [
        "from datetime import datetime, date\n",
        "\n",
        "def days_until(self):\n",
        "    today = datetime.today().date()  # get today's date (date only)\n",
        "    this_year_birthday = datetime(today.year, self.get_month(), self.get_day()).date()\n",
        "\n",
        "    # Code adds a year if birthday already passed this year\n",
        "    if this_year_birthday < today:\n",
        "        next_birthday = datetime(today.year + 1, self.get_month(), self.get_day()).date()\n",
        "    else:\n",
        "        next_birthday = this_year_birthday\n",
        "\n",
        "    days_left = (next_birthday - today).days\n",
        "    return days_left\n"
      ],
      "metadata": {
        "id": "WMY1KvfXAB4s"
      },
      "execution_count": 117,
      "outputs": []
    },
    {
      "cell_type": "markdown",
      "source": [
        "####**Next,** we input the correct objects for datetime\n",
        "\n",
        "---\n",
        "###### We need this so that when we run the 3.2 report we get back birthday and how many days are left if it passed"
      ],
      "metadata": {
        "id": "Xv3gYGCjAgBu"
      }
    },
    {
      "cell_type": "code",
      "source": [
        "def days_until(self):\n",
        "  today = date.today() # Gets the current date on when this application is run\n",
        "  next_birthday = date(today.year, self.get_month(), self.get_day())\n",
        "\n",
        "  # Code creates a date object so that it can\n",
        "  # Run and gives us an estimate on how much is left for set bday.\n",
        "\n",
        "  if next_birthday < today:\n",
        "    next_birthday = date(today.year + 1, self.get_month(), self.get_day())\n",
        "  # Code adds a year to 'today.year'...only if birthday has already passed in this current year.\n",
        "  # Need to use get. command to access\n",
        "  days_left = (next_birthday - today).days\n",
        "  # Starts the calculation on how many days left from todays date\n",
        "  # by using the \"\".date\" that gives the numbers.\n",
        "  return days_left\n"
      ],
      "metadata": {
        "id": "wuIyfKNx7GaU"
      },
      "execution_count": 118,
      "outputs": []
    },
    {
      "cell_type": "markdown",
      "source": [
        "### This code lets us see our friends birthday in order.\n",
        "\n",
        "---\n",
        "\n",
        "\n"
      ],
      "metadata": {
        "id": "BLDym6NUBR91"
      }
    },
    {
      "cell_type": "code",
      "execution_count": 119,
      "metadata": {
        "id": "G7WiGNaC2svs",
        "colab": {
          "base_uri": "https://localhost:8080/"
        },
        "outputId": "d956d910-9209-4fad-d474-59af29804de6"
      },
      "outputs": [
        {
          "output_type": "stream",
          "name": "stdout",
          "text": [
            "\n",
            "Menu:\n",
            "1 -Create new friend record\n",
            "2 - Search for a friend\n",
            "3 - Edit a friend\n",
            "4 - Delete a friend\n",
            "5 - Run reports\n",
            "6 - Exit\n",
            "Enter your choice (1-6): 5\n",
            "\\Menu:\n",
            "3.1 - List of friends alphabetically\n",
            "3.2 - List of friends by upcoming birthdays\n",
            "3.3 - Mailing labels for friends\n",
            "3.4 - Return to the previous menu\n",
            "Enter your choice (3.1-3.4): 3.2\n",
            "\n",
            " 3.2-List of friends upcoming birthdays:\n",
            "\n",
            "DEBUG: Found 6 friends with birthdays\n",
            "Aryn Burke- Birthday: 3/21 (in 225 days)\n",
            "Nicole Tamayo- Birthday: 6/15 (in 311 days)\n",
            "Obi Iheme- Birthday: 8/20 (in 12 days)\n",
            "Kevin Loch- Birthday: 9/4 (in 27 days)\n",
            "Haley Hudson- Birthday: 9/6 (in 29 days)\n",
            "Alex Tamayo- Birthday: 12/29 (in 143 days)\n",
            "\n",
            "Menu:\n",
            "1 -Create new friend record\n",
            "2 - Search for a friend\n",
            "3 - Edit a friend\n",
            "4 - Delete a friend\n",
            "5 - Run reports\n",
            "6 - Exit\n",
            "Enter your choice (1-6): 6\n",
            "Exiting program.\n"
          ]
        }
      ],
      "source": [
        "while True:\n",
        "  show_menu()\n",
        "  choice = input(\"Enter your choice (1-6): \") # Pulling up main menu\n",
        "\n",
        "  if choice == \"5\":\n",
        "    run_reports()\n",
        "    report_choice = input(\"Enter your choice (3.1-3.4): \")\n",
        "\n",
        "    if report_choice == \"3.1\":\n",
        "      print(\"\\n 3.1-List of friends alphabetically:\\n\")\n",
        "      sorted_friends = sorted(friends, key=lambda f: (f.last_name.lower(), f.first_name.lower()))\n",
        "      for friend in sorted_friends:\n",
        "          print(f\"{friend.first_name} {friend.last_name} - {friend.email}\")\n",
        "\n",
        "    elif report_choice == \"3.2\":\n",
        "      print(\"\\n 3.2-List of friends upcoming birthdays:\\n\")\n",
        "      # This will give our friends with birthdays and ensure birthday is not None\n",
        "      friends_with_birthdays = [f for f in friends if f._birthday is not None and isinstance(f._birthday, Birthday)]\n",
        "      print(f\"DEBUG: Found {len(friends_with_birthdays)} friends with birthdays\")  # 👈 add this\n",
        "\n",
        "      # This is our sorted birthdays!\n",
        "      sorted_birthday = sorted(friends_with_birthdays, key=lambda friend: (friend._birthday.get_month(), friend._birthday.get_day()))\n",
        "\n",
        "      for friend in sorted_birthday:\n",
        "        print(f\"{friend.first_name} {friend.last_name}- Birthday: {friend._birthday.get_month()}/{friend._birthday.get_day()} (in {days_until_birthday(friend._birthday)} days)\")\n",
        "\n",
        "\n",
        "    elif report_choice == \"3.3\":\n",
        "      print(\"\\n 3.3-Mailing labels:\\n\")\n",
        "      for friend in friends:\n",
        "          print(f\"{friend.first_name} {friend.last_name}\")\n",
        "          print(f\"{friend.city}\")\n",
        "          print()\n",
        "\n",
        "    elif report_choice == \"3.4\":\n",
        "      print(\"Returning to the previous menu.\")\n",
        "      continue # Go back to the main menu\n",
        "\n",
        "    else:\n",
        "      print(\"Invalid report choice. Please try again.\")\n",
        "\n",
        "  elif choice == \"6\":\n",
        "    print(\"Exiting program.\")\n",
        "    break # Take us out of the program\n",
        "\n",
        "  else:\n",
        "    print(\"Invalid choice. Please try again.\")\n",
        "    # If we choose anything that is not in our menu, we get try again prompts\n"
      ]
    },
    {
      "cell_type": "code",
      "metadata": {
        "id": "WqwW2WldNhgA"
      },
      "source": [],
      "execution_count": null,
      "outputs": []
    },
    {
      "cell_type": "code",
      "metadata": {
        "id": "KyLiMKx6hh6-"
      },
      "source": [
        "\n"
      ],
      "execution_count": null,
      "outputs": []
    }
  ],
  "metadata": {
    "colab": {
      "provenance": [],
      "authorship_tag": "ABX9TyM88ZMP23Iww+gZOPjx8oDZ",
      "include_colab_link": true
    },
    "kernelspec": {
      "display_name": "Python 3",
      "name": "python3"
    },
    "language_info": {
      "name": "python"
    }
  },
  "nbformat": 4,
  "nbformat_minor": 0
}