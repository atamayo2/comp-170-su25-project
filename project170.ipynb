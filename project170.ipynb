{
  "cells": [
    {
      "cell_type": "markdown",
      "metadata": {
        "id": "view-in-github",
        "colab_type": "text"
      },
      "source": [
        "<a href=\"https://colab.research.google.com/github/atamayo2/comp-170-su25-project/blob/main/project170.ipynb\" target=\"_parent\"><img src=\"https://colab.research.google.com/assets/colab-badge.svg\" alt=\"Open In Colab\"/></a>"
      ]
    },
    {
      "cell_type": "markdown",
      "metadata": {
        "id": "yfAB5kR_H0HW"
      },
      "source": [
        "#File Starter\n",
        "\n",
        "\n",
        "---\n",
        "\n"
      ]
    },
    {
      "cell_type": "code",
      "execution_count": 57,
      "metadata": {
        "colab": {
          "base_uri": "https://localhost:8080/"
        },
        "collapsed": true,
        "id": "VFYICnhtEpZt",
        "outputId": "25a32894-9678-4c64-bf99-0e28ae43550f"
      },
      "outputs": [
        {
          "output_type": "stream",
          "name": "stdout",
          "text": [
            "fatal: destination path 'comp-170-su25-project' already exists and is not an empty directory.\n"
          ]
        }
      ],
      "source": [
        "!git clone https://github.com/lgreco/comp-170-su25-project.git\n"
      ]
    },
    {
      "cell_type": "code",
      "execution_count": 58,
      "metadata": {
        "id": "nt49v4HhQk1G"
      },
      "outputs": [],
      "source": [
        "import sys\n",
        "sys.path.append(\"/content/comp-170-su25-project/\")"
      ]
    },
    {
      "cell_type": "code",
      "execution_count": 59,
      "metadata": {
        "id": "z1uu7hSPFPP1"
      },
      "outputs": [],
      "source": [
        "import sys\n",
        "sys.path.append(\"/content/comp-170-su25-project/Birthday.py\")"
      ]
    },
    {
      "cell_type": "code",
      "execution_count": 60,
      "metadata": {
        "id": "OhADGsPrGbjK"
      },
      "outputs": [],
      "source": [
        "import sys\n",
        "sys.path.append(\"/content/comp-170-su25-project/Friend.py\")"
      ]
    },
    {
      "cell_type": "code",
      "execution_count": 61,
      "metadata": {
        "id": "aHrheWiMOB4U"
      },
      "outputs": [],
      "source": [
        "# These imports will give us the data from each file\n",
        "from Birthday import Birthday\n",
        "from Friend import Person\n",
        " # There is no person file so we are changing\n",
        " # Friend to Person so that the code can run"
      ]
    },
    {
      "cell_type": "code",
      "execution_count": 62,
      "metadata": {
        "id": "DeWh0x5aQ0gW"
      },
      "outputs": [],
      "source": [
        "# Setting proper commands before doing name testing\n",
        "def __init__(self, first_name, last_name):\n",
        "  self.first_name = first_name\n",
        "  self.last_name = last_name\n",
        "  self.birthday = None\n",
        "  self.city = None"
      ]
    },
    {
      "cell_type": "code",
      "execution_count": 63,
      "metadata": {
        "id": "JkSr-0qybIYt"
      },
      "outputs": [],
      "source": [
        "def set_birthday(self, month, day):\n",
        "  self._birthday = Birthday(month, day)\n"
      ]
    },
    {
      "cell_type": "markdown",
      "metadata": {
        "id": "-W1tRYACNQ2M"
      },
      "source": [
        "#**Starting Friend List**\n",
        "---\n",
        "\n"
      ]
    },
    {
      "cell_type": "markdown",
      "source": [
        "This is what i want to see when i get a return for introduction:"
      ],
      "metadata": {
        "id": "K-Gvnr7LSBbj"
      }
    },
    {
      "cell_type": "code",
      "execution_count": 71,
      "metadata": {
        "id": "tRgCyp5ERGsQ"
      },
      "outputs": [],
      "source": [
        "def __str__(self):\n",
        "  return f\"{self.first_name} {self.last_name}\"\n",
        "\n",
        "def introduce(self):\n",
        "  print(f\"Hello, my name is {self.first_name} i will be helping my friends, and my birthday is on {self.birthday} \")\n",
        "  print (f\"I was born and raised in {self.city}\")"
      ]
    },
    {
      "cell_type": "markdown",
      "source": [
        "These are the names i will be using\n",
        "\n",
        "---\n",
        "\n"
      ],
      "metadata": {
        "id": "dQfvYoRCRxn7"
      }
    },
    {
      "cell_type": "code",
      "execution_count": 72,
      "metadata": {
        "id": "WqwW2WldNhgA"
      },
      "outputs": [],
      "source": [
        "\n",
        "alex = Person(\"Alex\", \"Tamayo\")\n",
        "obi = Person(\"Obi\", \"Iheme\")\n",
        "aryn = Person(\"Aryn\", \"Burke\")\n",
        "nicole = Person(\"Nicole\", \"Tamayo\")\n",
        "haley = Person(\"Haley\", \"Hudson\")\n",
        "kevin = Person(\"Kevin\", \"Loch\")\n"
      ]
    },
    {
      "cell_type": "markdown",
      "source": [
        "### Birthdays and Cities\n",
        "\n",
        "---\n",
        "Now this will be the birthdays i am giving each person.For the first person it will be me and the rest will be my friends. Which will be followed through with their home city."
      ],
      "metadata": {
        "id": "iskTe7pVTNq9"
      }
    },
    {
      "cell_type": "code",
      "execution_count": 73,
      "metadata": {
        "id": "LQS4dsVXYbq2"
      },
      "outputs": [],
      "source": [
        "alex.set_birthday(12,29)\n",
        "# First number is month and day for each person\n",
        "alex.set_city(\"Skokie\") # Only the words use \"\" because they are integers. Numbers do not need it\n",
        "# However we cannot use / to split months and day because it is a python code.\n",
        "obi.set_birthday(8,20) # month,day\n",
        "obi.set_city(\"Evanston\")\n",
        "\n",
        "aryn.set_birthday(3,21)\n",
        "aryn.set_city(\"Chicago\")\n",
        "\n",
        "nicole.set_birthday(6,15)\n",
        "nicole.set_city(\"Palatine\")\n",
        "\n",
        "haley.set_birthday(9,6)\n",
        "haley.set_city(\"Edgebrook\")\n",
        "\n",
        "kevin.set_birthday(9,4)\n",
        "kevin.set_city(\"Morton Grove\")"
      ]
    },
    {
      "cell_type": "markdown",
      "metadata": {
        "id": "Qf-WCBQOnRD3"
      },
      "source": [
        "Storing friends in a list\n",
        "\n",
        "---\n",
        "\n"
      ]
    },
    {
      "cell_type": "code",
      "execution_count": 67,
      "metadata": {
        "id": "KyLiMKx6hh6-"
      },
      "outputs": [],
      "source": [
        "friends = [alex, obi, aryn, nicole, haley, kevin]"
      ]
    },
    {
      "cell_type": "markdown",
      "metadata": {
        "id": "M41I-qigoaDz"
      },
      "source": [
        "# **Inputs and Returns**\n",
        "\n",
        "---\n",
        "\n"
      ]
    },
    {
      "cell_type": "markdown",
      "metadata": {
        "id": "Y7uFcbGMozs8"
      },
      "source": [
        "Now we will start doing inputs so that the return statments can give us what we asked for. The return statments should be from the menu options given if not then we get a try again response."
      ]
    },
    {
      "cell_type": "code",
      "execution_count": 78,
      "metadata": {
        "id": "8tk7zpSxn3Tm"
      },
      "outputs": [],
      "source": [
        "# The command should return these options where we can then write in given box\n",
        "# what we choose.\n",
        "def show_menu():\n",
        "  print(\"\\Menu:\")\n",
        "  print(\"1 -Create new friend record\")\n",
        "  print(\"2 - Search for a friend\")\n",
        "  print(\"3 - Run reports\")\n",
        "  print(\"4 - Exit\")"
      ]
    },
    {
      "cell_type": "markdown",
      "source": [
        "Cell will give us an 'while' and 'else' statment. When choosing our options from the menu it should return questions. For option 1 these are what we get in\n",
        "response.\n",
        "\n",
        "\n",
        "---\n",
        "\n",
        "\n"
      ],
      "metadata": {
        "id": "kjJCLmr7Qixh"
      }
    },
    {
      "cell_type": "code",
      "execution_count": 79,
      "metadata": {
        "colab": {
          "base_uri": "https://localhost:8080/"
        },
        "collapsed": true,
        "id": "lN3XetzYqdcN",
        "outputId": "a296fea9-8500-45ab-fb1c-e96dd19b2f38"
      },
      "outputs": [
        {
          "output_type": "stream",
          "name": "stdout",
          "text": [
            "\\Menu:\n",
            "1 -Create new friend record\n",
            "2 - Search for a friend\n",
            "3 - Run reports\n",
            "4 - Exit\n",
            "Enter your choice (1-4): 1\n",
            "Enter first name: john\n",
            "Enter last name: smith\n",
            "Friend added: [ john smith] \n",
            "Current friends list:\n",
            "-[ Alex Tamayo]\n",
            "-[ Obi Iheme]\n",
            "-[ Aryn Burke]\n",
            "-[ Nicole Tamayo]\n",
            "-[ Haley Hudson]\n",
            "-[ Kevin Loch]\n",
            "-[ john smith]\n",
            "\\Menu:\n",
            "1 -Create new friend record\n",
            "2 - Search for a friend\n",
            "3 - Run reports\n",
            "4 - Exit\n",
            "Enter your choice (1-4): 4\n",
            "Exiting program.\n"
          ]
        }
      ],
      "source": [
        "while True:\n",
        "  show_menu()\n",
        "  choice = input(\"Enter your choice (1-4): \")\n",
        "\n",
        "  if choice == \"1\":\n",
        "    first_name = input(\"Enter first name: \") # We are doing this because we are adding a fake friend\n",
        "    last_name = input(\"Enter last name: \")\n",
        "    new_friend_added = Person(first_name, last_name)\n",
        "    friends.append(new_friend_added) # This command saves the new friend\n",
        "\n",
        "    # After we save our friend, the prompt should show us the first and last name of new friend\n",
        "    # I also added for it to show us our whole friends list too, to make sure new friend is saved.\n",
        "    print(f\"Friend added: {new_friend_added} \")\n",
        "    print(\"Current friends list:\")\n",
        "    for f in friends:\n",
        "      print(f\"-{f}\") # Here we are asking for our printed object string (our friends) and the\n",
        "                    # {f} prints the person command\n",
        "\n",
        "  elif choice == \"4\":\n",
        "    print(\"Exiting program.\")\n",
        "    break # Take us out of the program\n",
        "  else:\n",
        "    print(\"Invalid choice. Please try again.\")\n",
        "     # If we choose anything that is not in our menu, we get try again prompts"
      ]
    },
    {
      "cell_type": "markdown",
      "source": [
        "After we save our friend, the prompt should show us the first and last name of new friend.\n"
      ],
      "metadata": {
        "id": "s9Cv0TmDQ-tw"
      }
    },
    {
      "cell_type": "code",
      "source": [
        "    print(\"Current friends list:\")\n",
        "    for f in friends:\n",
        "      print(f\"-{f}\") # Here we are asking for our printed object string (our friends) and the\n",
        "                     # {f} prints the person command\n",
        ""
      ],
      "metadata": {
        "colab": {
          "base_uri": "https://localhost:8080/"
        },
        "collapsed": true,
        "id": "xWgVxch4RF8v",
        "outputId": "64ff49f1-81b5-4083-98f6-8c7567942174"
      },
      "execution_count": 85,
      "outputs": [
        {
          "output_type": "stream",
          "name": "stdout",
          "text": [
            "Current friends list:\n",
            "-[ Alex Tamayo]\n",
            "-[ Obi Iheme]\n",
            "-[ Aryn Burke]\n",
            "-[ Nicole Tamayo]\n",
            "-[ Haley Hudson]\n",
            "-[ Kevin Loch]\n",
            "-[ john smith]\n"
          ]
        }
      ]
    },
    {
      "cell_type": "code",
      "source": [
        "# We are moving on to choice 2 where we should\n",
        "#  be able to search for a friend\n",
        "while True:\n",
        "  show_menu()\n",
        "  choice = input(\"Enter your choice (1-4): \") # Pulling up menu choices\n",
        "\n",
        "  if choice == \"2\":\n",
        "    first_name = input(\"Enter first name: \") # Choose the friend name\n",
        "    last_name = input(\"Enter last name: \")\n",
        "    friend_searched = friend # if friend is not found\n",
        "    # It should return this command, their whole name...\n",
        "\n",
        "# Now what if we searched up a friend that does not exist? The response should come out as\n",
        "# nothing and take us back to the menu before exiting program..\n",
        "  for friend in friends:  # Becomes a loop because of the 'for' and 'in' statements\n",
        "    if friend.first_name == friend_searched.first_name and friend.last_name == friend_searched.last_name:\n",
        "        friend_searched = friend\n",
        "    break # Ends if friend found\n",
        "\n",
        "    if friend_found:\n",
        "      print(f\"Friend found: {friend_found}\")\n",
        "    else:\n",
        "      print(\"Person does not exist. Please try again.\")\n",
        "    break # This break prevents us from going in a loop. Since the command above\n",
        "        # puts us in a loop until an answer is found the break stops it if there is no answer.\n",
        "# Helps us exit with bottom command\n",
        "    if choice == \"4\":\n",
        "      print(\"Exiting program.\")\n",
        "      break # Take us out of the program\n",
        "    else:\n",
        "      print(\"Invalid choice. Please try again.\")\n",
        "     # If we choose anything that is not in our menu, we get try again prompts\n"
      ],
      "metadata": {
        "colab": {
          "base_uri": "https://localhost:8080/",
          "height": 738
        },
        "collapsed": true,
        "id": "eeoqIeztX_iG",
        "outputId": "4e0a31ed-fd7f-4be5-ff5d-73ef9711bc3b"
      },
      "execution_count": 89,
      "outputs": [
        {
          "output_type": "stream",
          "name": "stdout",
          "text": [
            "\\Menu:\n",
            "1 -Create new friend record\n",
            "2 - Search for a friend\n",
            "3 - Run reports\n",
            "4 - Exit\n",
            "Enter your choice (1-4): 2\n",
            "Enter first name: alex\n",
            "Enter last name: tamayo\n",
            "\\Menu:\n",
            "1 -Create new friend record\n",
            "2 - Search for a friend\n",
            "3 - Run reports\n",
            "4 - Exit\n",
            "Enter your choice (1-4): 2\n",
            "Enter first name: alex\n",
            "Enter last name: jones\n",
            "\\Menu:\n",
            "1 -Create new friend record\n",
            "2 - Search for a friend\n",
            "3 - Run reports\n",
            "4 - Exit\n"
          ]
        },
        {
          "output_type": "error",
          "ename": "KeyboardInterrupt",
          "evalue": "Interrupted by user",
          "traceback": [
            "\u001b[0;31m---------------------------------------------------------------------------\u001b[0m",
            "\u001b[0;31mKeyboardInterrupt\u001b[0m                         Traceback (most recent call last)",
            "\u001b[0;32m/tmp/ipython-input-1080737209.py\u001b[0m in \u001b[0;36m<cell line: 0>\u001b[0;34m()\u001b[0m\n\u001b[1;32m      3\u001b[0m \u001b[0;32mwhile\u001b[0m \u001b[0;32mTrue\u001b[0m\u001b[0;34m:\u001b[0m\u001b[0;34m\u001b[0m\u001b[0;34m\u001b[0m\u001b[0m\n\u001b[1;32m      4\u001b[0m   \u001b[0mshow_menu\u001b[0m\u001b[0;34m(\u001b[0m\u001b[0;34m)\u001b[0m\u001b[0;34m\u001b[0m\u001b[0;34m\u001b[0m\u001b[0m\n\u001b[0;32m----> 5\u001b[0;31m   \u001b[0mchoice\u001b[0m \u001b[0;34m=\u001b[0m \u001b[0minput\u001b[0m\u001b[0;34m(\u001b[0m\u001b[0;34m\"Enter your choice (1-4): \"\u001b[0m\u001b[0;34m)\u001b[0m \u001b[0;31m# Pulling up menu choices\u001b[0m\u001b[0;34m\u001b[0m\u001b[0;34m\u001b[0m\u001b[0m\n\u001b[0m\u001b[1;32m      6\u001b[0m \u001b[0;34m\u001b[0m\u001b[0m\n\u001b[1;32m      7\u001b[0m   \u001b[0;32mif\u001b[0m \u001b[0mchoice\u001b[0m \u001b[0;34m==\u001b[0m \u001b[0;34m\"2\"\u001b[0m\u001b[0;34m:\u001b[0m\u001b[0;34m\u001b[0m\u001b[0;34m\u001b[0m\u001b[0m\n",
            "\u001b[0;32m/usr/local/lib/python3.11/dist-packages/ipykernel/kernelbase.py\u001b[0m in \u001b[0;36mraw_input\u001b[0;34m(self, prompt)\u001b[0m\n\u001b[1;32m   1175\u001b[0m                 \u001b[0;34m\"raw_input was called, but this frontend does not support input requests.\"\u001b[0m\u001b[0;34m\u001b[0m\u001b[0;34m\u001b[0m\u001b[0m\n\u001b[1;32m   1176\u001b[0m             )\n\u001b[0;32m-> 1177\u001b[0;31m         return self._input_request(\n\u001b[0m\u001b[1;32m   1178\u001b[0m             \u001b[0mstr\u001b[0m\u001b[0;34m(\u001b[0m\u001b[0mprompt\u001b[0m\u001b[0;34m)\u001b[0m\u001b[0;34m,\u001b[0m\u001b[0;34m\u001b[0m\u001b[0;34m\u001b[0m\u001b[0m\n\u001b[1;32m   1179\u001b[0m             \u001b[0mself\u001b[0m\u001b[0;34m.\u001b[0m\u001b[0m_parent_ident\u001b[0m\u001b[0;34m[\u001b[0m\u001b[0;34m\"shell\"\u001b[0m\u001b[0;34m]\u001b[0m\u001b[0;34m,\u001b[0m\u001b[0;34m\u001b[0m\u001b[0;34m\u001b[0m\u001b[0m\n",
            "\u001b[0;32m/usr/local/lib/python3.11/dist-packages/ipykernel/kernelbase.py\u001b[0m in \u001b[0;36m_input_request\u001b[0;34m(self, prompt, ident, parent, password)\u001b[0m\n\u001b[1;32m   1217\u001b[0m             \u001b[0;32mexcept\u001b[0m \u001b[0mKeyboardInterrupt\u001b[0m\u001b[0;34m:\u001b[0m\u001b[0;34m\u001b[0m\u001b[0;34m\u001b[0m\u001b[0m\n\u001b[1;32m   1218\u001b[0m                 \u001b[0;31m# re-raise KeyboardInterrupt, to truncate traceback\u001b[0m\u001b[0;34m\u001b[0m\u001b[0;34m\u001b[0m\u001b[0m\n\u001b[0;32m-> 1219\u001b[0;31m                 \u001b[0;32mraise\u001b[0m \u001b[0mKeyboardInterrupt\u001b[0m\u001b[0;34m(\u001b[0m\u001b[0;34m\"Interrupted by user\"\u001b[0m\u001b[0;34m)\u001b[0m \u001b[0;32mfrom\u001b[0m \u001b[0;32mNone\u001b[0m\u001b[0;34m\u001b[0m\u001b[0;34m\u001b[0m\u001b[0m\n\u001b[0m\u001b[1;32m   1220\u001b[0m             \u001b[0;32mexcept\u001b[0m \u001b[0mException\u001b[0m\u001b[0;34m:\u001b[0m\u001b[0;34m\u001b[0m\u001b[0;34m\u001b[0m\u001b[0m\n\u001b[1;32m   1221\u001b[0m                 \u001b[0mself\u001b[0m\u001b[0;34m.\u001b[0m\u001b[0mlog\u001b[0m\u001b[0;34m.\u001b[0m\u001b[0mwarning\u001b[0m\u001b[0;34m(\u001b[0m\u001b[0;34m\"Invalid Message:\"\u001b[0m\u001b[0;34m,\u001b[0m \u001b[0mexc_info\u001b[0m\u001b[0;34m=\u001b[0m\u001b[0;32mTrue\u001b[0m\u001b[0;34m)\u001b[0m\u001b[0;34m\u001b[0m\u001b[0;34m\u001b[0m\u001b[0m\n",
            "\u001b[0;31mKeyboardInterrupt\u001b[0m: Interrupted by user"
          ]
        }
      ]
    },
    {
      "cell_type": "code",
      "execution_count": null,
      "metadata": {
        "id": "eQP0g-UoxSko"
      },
      "outputs": [],
      "source": [
        "# This cell will help us run option 3 command.\n",
        "# We should be able to choose from the menu which report we want.\n",
        "\n",
        "def run_reports():\n",
        "  print(\"\\Menu:\")\n",
        "  print(\"3.1-List of friends alphabetically\")\n",
        "  print(\"3.2 - List of friends by upcoming birthdays\")\n",
        "  print(\"3.3 - Mailing labels for friends\")\n",
        "  print(\"3.4 - Return to the previous menu\")"
      ]
    },
    {
      "cell_type": "code",
      "execution_count": null,
      "metadata": {
        "collapsed": true,
        "id": "QMKeDKtasFRx"
      },
      "outputs": [],
      "source": [
        "# In option 3.1, if chosen, it should respond with our friends names\n",
        "# in order of last name to first name. A quick note: It should have our\n",
        "# added \"fake\" friend!\n",
        "while True:\n",
        "  show_menu()\n",
        "  choice = input(\"Enter your choice (1-4): \") # Pulling up main menu\n",
        "  run_reports()\n",
        "  choice = input(\"Enter your choice (3.1-3.4): \")\n",
        "\n",
        "  if choice == \"3.1\":\n",
        "    print(\"\\n 3.1-List of friends alphabetically:/n\")\n",
        "    sorted_alpha = sorted(friends, key=lambda friend: (friend.last_name, friend.first_name))\n",
        "\n",
        "  for friend in sorted_alpha:\n",
        "    print(friend)"
      ]
    },
    {
      "cell_type": "code",
      "execution_count": null,
      "metadata": {
        "collapsed": true,
        "id": "G7WiGNaC2svs"
      },
      "outputs": [],
      "source": [
        "# This code lets us see our friends birthday in order. It should tell us\n",
        "# the month and day left until their birthday. Added at the end if we added\n",
        "# a fake friend it will respond blank due to none excistent.\n",
        "\n",
        "while True:\n",
        "  show_menu()\n",
        "  choice = input(\"Enter your choice (1-4): \") # Pulling up main menu\n",
        "  run_reports()\n",
        "  choice = input(\"Enter your choice (3.1-3.4): \")\n",
        "\n",
        "# This will give our none existent friends birthday\n",
        "  friends_with_birthdays = [f for f in friends if fake._birthday is not None]\n",
        "# This is our sorted birthdays!\n",
        "  sorted_birthday = sorted(friends_with_birthdays, key=lambda friend: (friend.birthday.get_month(), friend.birthday.get_day()))\n",
        "\n",
        "\n",
        "\n",
        "  if choice == \"3.2\":\n",
        "    print(\"\\n 3.2-List of friends upcoming birthdays:/n\")\n",
        "    print(f\"{friend.first_name}- Birthday: {friend.birthday.get_month()}/{friend.birthday.get_day()} (in {friend.birthday.days_until()} days)\")\n",
        "\n",
        "  for friend in sorted_birthday:\n",
        "    print(friend)"
      ]
    }
  ],
  "metadata": {
    "colab": {
      "provenance": [],
      "toc_visible": true,
      "authorship_tag": "ABX9TyNOgVKVDIUE+LfjpJKkhU9r",
      "include_colab_link": true
    },
    "kernelspec": {
      "display_name": "Python 3",
      "name": "python3"
    },
    "language_info": {
      "name": "python"
    }
  },
  "nbformat": 4,
  "nbformat_minor": 0
}