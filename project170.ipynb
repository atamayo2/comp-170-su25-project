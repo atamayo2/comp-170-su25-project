{
  "cells": [
    {
      "cell_type": "markdown",
      "metadata": {
        "id": "view-in-github",
        "colab_type": "text"
      },
      "source": [
        "<a href=\"https://colab.research.google.com/github/atamayo2/comp-170-su25-project/blob/main/project170.ipynb\" target=\"_parent\"><img src=\"https://colab.research.google.com/assets/colab-badge.svg\" alt=\"Open In Colab\"/></a>"
      ]
    },
    {
      "cell_type": "markdown",
      "metadata": {
        "id": "yfAB5kR_H0HW"
      },
      "source": [
        "#File Starter\n",
        "\n",
        "\n",
        "---\n",
        "\n"
      ]
    },
    {
      "cell_type": "code",
      "execution_count": 66,
      "metadata": {
        "colab": {
          "base_uri": "https://localhost:8080/"
        },
        "collapsed": true,
        "id": "VFYICnhtEpZt",
        "outputId": "c985a807-35d0-41d4-fcc2-f1bd484dd83d"
      },
      "outputs": [
        {
          "output_type": "stream",
          "name": "stdout",
          "text": [
            "fatal: destination path 'comp-170-su25-project' already exists and is not an empty directory.\n"
          ]
        }
      ],
      "source": [
        "!git clone https://github.com/lgreco/comp-170-su25-project.git\n"
      ]
    },
    {
      "cell_type": "code",
      "execution_count": 124,
      "metadata": {
        "id": "nt49v4HhQk1G"
      },
      "outputs": [],
      "source": [
        "import sys\n",
        "sys.path.append(\"/content/comp-170-su25-project/\")\n",
        "import sys\n",
        "sys.path.append(\"/content/comp-170-su25-project/Friend.py\")\n",
        "import sys\n",
        "sys.path.append(\"/content/comp-170-su25-project/Birthday.py\")"
      ]
    },
    {
      "cell_type": "code",
      "source": [
        "import os\n",
        "print(os.getcwd())\n"
      ],
      "metadata": {
        "colab": {
          "base_uri": "https://localhost:8080/"
        },
        "id": "aEOXcucnsi_p",
        "outputId": "8e4d54a1-bdce-4c5f-f367-3575f2591851"
      },
      "execution_count": 125,
      "outputs": [
        {
          "output_type": "stream",
          "name": "stdout",
          "text": [
            "/content\n"
          ]
        }
      ]
    },
    {
      "cell_type": "code",
      "source": [
        "from google.colab import files\n",
        "uploaded = files.upload()\n"
      ],
      "metadata": {
        "colab": {
          "base_uri": "https://localhost:8080/",
          "height": 73
        },
        "collapsed": true,
        "id": "Ii7bJ0lftNCP",
        "outputId": "bf0ab5bf-0a24-4392-e8b1-360e70512d55"
      },
      "execution_count": 4,
      "outputs": [
        {
          "output_type": "display_data",
          "data": {
            "text/plain": [
              "<IPython.core.display.HTML object>"
            ],
            "text/html": [
              "\n",
              "     <input type=\"file\" id=\"files-bbeb3a7e-707b-4a0c-a700-6a7797b03eb8\" name=\"files[]\" multiple disabled\n",
              "        style=\"border:none\" />\n",
              "     <output id=\"result-bbeb3a7e-707b-4a0c-a700-6a7797b03eb8\">\n",
              "      Upload widget is only available when the cell has been executed in the\n",
              "      current browser session. Please rerun this cell to enable.\n",
              "      </output>\n",
              "      <script>// Copyright 2017 Google LLC\n",
              "//\n",
              "// Licensed under the Apache License, Version 2.0 (the \"License\");\n",
              "// you may not use this file except in compliance with the License.\n",
              "// You may obtain a copy of the License at\n",
              "//\n",
              "//      http://www.apache.org/licenses/LICENSE-2.0\n",
              "//\n",
              "// Unless required by applicable law or agreed to in writing, software\n",
              "// distributed under the License is distributed on an \"AS IS\" BASIS,\n",
              "// WITHOUT WARRANTIES OR CONDITIONS OF ANY KIND, either express or implied.\n",
              "// See the License for the specific language governing permissions and\n",
              "// limitations under the License.\n",
              "\n",
              "/**\n",
              " * @fileoverview Helpers for google.colab Python module.\n",
              " */\n",
              "(function(scope) {\n",
              "function span(text, styleAttributes = {}) {\n",
              "  const element = document.createElement('span');\n",
              "  element.textContent = text;\n",
              "  for (const key of Object.keys(styleAttributes)) {\n",
              "    element.style[key] = styleAttributes[key];\n",
              "  }\n",
              "  return element;\n",
              "}\n",
              "\n",
              "// Max number of bytes which will be uploaded at a time.\n",
              "const MAX_PAYLOAD_SIZE = 100 * 1024;\n",
              "\n",
              "function _uploadFiles(inputId, outputId) {\n",
              "  const steps = uploadFilesStep(inputId, outputId);\n",
              "  const outputElement = document.getElementById(outputId);\n",
              "  // Cache steps on the outputElement to make it available for the next call\n",
              "  // to uploadFilesContinue from Python.\n",
              "  outputElement.steps = steps;\n",
              "\n",
              "  return _uploadFilesContinue(outputId);\n",
              "}\n",
              "\n",
              "// This is roughly an async generator (not supported in the browser yet),\n",
              "// where there are multiple asynchronous steps and the Python side is going\n",
              "// to poll for completion of each step.\n",
              "// This uses a Promise to block the python side on completion of each step,\n",
              "// then passes the result of the previous step as the input to the next step.\n",
              "function _uploadFilesContinue(outputId) {\n",
              "  const outputElement = document.getElementById(outputId);\n",
              "  const steps = outputElement.steps;\n",
              "\n",
              "  const next = steps.next(outputElement.lastPromiseValue);\n",
              "  return Promise.resolve(next.value.promise).then((value) => {\n",
              "    // Cache the last promise value to make it available to the next\n",
              "    // step of the generator.\n",
              "    outputElement.lastPromiseValue = value;\n",
              "    return next.value.response;\n",
              "  });\n",
              "}\n",
              "\n",
              "/**\n",
              " * Generator function which is called between each async step of the upload\n",
              " * process.\n",
              " * @param {string} inputId Element ID of the input file picker element.\n",
              " * @param {string} outputId Element ID of the output display.\n",
              " * @return {!Iterable<!Object>} Iterable of next steps.\n",
              " */\n",
              "function* uploadFilesStep(inputId, outputId) {\n",
              "  const inputElement = document.getElementById(inputId);\n",
              "  inputElement.disabled = false;\n",
              "\n",
              "  const outputElement = document.getElementById(outputId);\n",
              "  outputElement.innerHTML = '';\n",
              "\n",
              "  const pickedPromise = new Promise((resolve) => {\n",
              "    inputElement.addEventListener('change', (e) => {\n",
              "      resolve(e.target.files);\n",
              "    });\n",
              "  });\n",
              "\n",
              "  const cancel = document.createElement('button');\n",
              "  inputElement.parentElement.appendChild(cancel);\n",
              "  cancel.textContent = 'Cancel upload';\n",
              "  const cancelPromise = new Promise((resolve) => {\n",
              "    cancel.onclick = () => {\n",
              "      resolve(null);\n",
              "    };\n",
              "  });\n",
              "\n",
              "  // Wait for the user to pick the files.\n",
              "  const files = yield {\n",
              "    promise: Promise.race([pickedPromise, cancelPromise]),\n",
              "    response: {\n",
              "      action: 'starting',\n",
              "    }\n",
              "  };\n",
              "\n",
              "  cancel.remove();\n",
              "\n",
              "  // Disable the input element since further picks are not allowed.\n",
              "  inputElement.disabled = true;\n",
              "\n",
              "  if (!files) {\n",
              "    return {\n",
              "      response: {\n",
              "        action: 'complete',\n",
              "      }\n",
              "    };\n",
              "  }\n",
              "\n",
              "  for (const file of files) {\n",
              "    const li = document.createElement('li');\n",
              "    li.append(span(file.name, {fontWeight: 'bold'}));\n",
              "    li.append(span(\n",
              "        `(${file.type || 'n/a'}) - ${file.size} bytes, ` +\n",
              "        `last modified: ${\n",
              "            file.lastModifiedDate ? file.lastModifiedDate.toLocaleDateString() :\n",
              "                                    'n/a'} - `));\n",
              "    const percent = span('0% done');\n",
              "    li.appendChild(percent);\n",
              "\n",
              "    outputElement.appendChild(li);\n",
              "\n",
              "    const fileDataPromise = new Promise((resolve) => {\n",
              "      const reader = new FileReader();\n",
              "      reader.onload = (e) => {\n",
              "        resolve(e.target.result);\n",
              "      };\n",
              "      reader.readAsArrayBuffer(file);\n",
              "    });\n",
              "    // Wait for the data to be ready.\n",
              "    let fileData = yield {\n",
              "      promise: fileDataPromise,\n",
              "      response: {\n",
              "        action: 'continue',\n",
              "      }\n",
              "    };\n",
              "\n",
              "    // Use a chunked sending to avoid message size limits. See b/62115660.\n",
              "    let position = 0;\n",
              "    do {\n",
              "      const length = Math.min(fileData.byteLength - position, MAX_PAYLOAD_SIZE);\n",
              "      const chunk = new Uint8Array(fileData, position, length);\n",
              "      position += length;\n",
              "\n",
              "      const base64 = btoa(String.fromCharCode.apply(null, chunk));\n",
              "      yield {\n",
              "        response: {\n",
              "          action: 'append',\n",
              "          file: file.name,\n",
              "          data: base64,\n",
              "        },\n",
              "      };\n",
              "\n",
              "      let percentDone = fileData.byteLength === 0 ?\n",
              "          100 :\n",
              "          Math.round((position / fileData.byteLength) * 100);\n",
              "      percent.textContent = `${percentDone}% done`;\n",
              "\n",
              "    } while (position < fileData.byteLength);\n",
              "  }\n",
              "\n",
              "  // All done.\n",
              "  yield {\n",
              "    response: {\n",
              "      action: 'complete',\n",
              "    }\n",
              "  };\n",
              "}\n",
              "\n",
              "scope.google = scope.google || {};\n",
              "scope.google.colab = scope.google.colab || {};\n",
              "scope.google.colab._files = {\n",
              "  _uploadFiles,\n",
              "  _uploadFilesContinue,\n",
              "};\n",
              "})(self);\n",
              "</script> "
            ]
          },
          "metadata": {}
        },
        {
          "output_type": "stream",
          "name": "stdout",
          "text": [
            "Saving friends_database.csv.txt to friends_database.csv.txt\n"
          ]
        }
      ]
    },
    {
      "cell_type": "code",
      "source": [
        "import os\n",
        "print(os.listdir('/content'))\n"
      ],
      "metadata": {
        "colab": {
          "base_uri": "https://localhost:8080/"
        },
        "id": "r36cmGa0tEiT",
        "outputId": "717b662f-3b80-4bd2-843a-610143d61da6"
      },
      "execution_count": 126,
      "outputs": [
        {
          "output_type": "stream",
          "name": "stdout",
          "text": [
            "['.config', 'friends_database.csv', '.ipynb_checkpoints', 'comp-170-su25-project', 'sample_data']\n"
          ]
        }
      ]
    },
    {
      "cell_type": "code",
      "execution_count": 127,
      "metadata": {
        "id": "aHrheWiMOB4U"
      },
      "outputs": [],
      "source": [
        "import csv\n",
        "import os\n",
        "# These imports will give us the data from each file\n",
        "from Birthday import Birthday\n",
        "from Friend import Person\n",
        " # There is no person file so we are changing\n",
        " # Friend to Person so that the code can run\n",
        "\n",
        "friends = [] # The empty list gives lets be able to add more to the list\n",
        "# and holds the friennd records of the person objects\n",
        "with open('friends_database.csv', newline='') as csvfile: # opens our file that has the friends data\n",
        "# the newline '' prevents extra lines\n",
        "    reader = csv.DictReader(csvfile) # the dict creates a dictionary which is just our objects with rows and columns number\n",
        "    for row in reader:\n",
        "        p = Person(row['first_name'], row['last_name']) # change person to object prevents from having loose strings\n",
        "        p.set_birthday(int(row['birth_month']), int(row['birth_day'])) # csv reads integers as strings not numbers\n",
        "        p.set_city(row['city'])\n",
        "        friends.append(p)\n"
      ]
    },
    {
      "cell_type": "markdown",
      "metadata": {
        "id": "-W1tRYACNQ2M"
      },
      "source": [
        "#**Starting Friend List**\n",
        "---\n",
        "\n"
      ]
    },
    {
      "cell_type": "markdown",
      "source": [
        "This is what i want to see when i get a return for introduction:"
      ],
      "metadata": {
        "id": "K-Gvnr7LSBbj"
      }
    },
    {
      "cell_type": "code",
      "execution_count": 128,
      "metadata": {
        "id": "tRgCyp5ERGsQ"
      },
      "outputs": [],
      "source": [
        "def __str__(self):\n",
        "  return f\"{self.first_name} {self.last_name}\"\n",
        "\n",
        "def introduce(self):\n",
        "  print(f\"Hello, my name is {self.first_name} i will be helping my friends, and my birthday is on {self.birthday} \")\n",
        "  print (f\"I was born and raised in {self.city}\")"
      ]
    },
    {
      "cell_type": "markdown",
      "metadata": {
        "id": "M41I-qigoaDz"
      },
      "source": [
        "# **Inputs and Returns**\n",
        "\n",
        "---\n",
        "\n"
      ]
    },
    {
      "cell_type": "markdown",
      "metadata": {
        "id": "Y7uFcbGMozs8"
      },
      "source": [
        "Now we will start doing inputs so that the return statments can give us what we asked for. The return statments should be from the menu options given if not then we get a try again response."
      ]
    },
    {
      "cell_type": "code",
      "execution_count": 129,
      "metadata": {
        "id": "8tk7zpSxn3Tm"
      },
      "outputs": [],
      "source": [
        "# The command should return these options where we can then write in given box\n",
        "# what we choose.\n",
        "def show_menu():\n",
        "  print(\"\\nMenu:\") # need to put n after \\ so that it creates a new line\n",
        "  print(\"1 -Create new friend record\")\n",
        "  print(\"2 - Search for a friend\")\n",
        "  print(\"3 - Edit a friend\")\n",
        "  print(\"4 - Delete a friend\")\n",
        "  print(\"5 - Run reports\")\n",
        "  print(\"6 - Exit\")"
      ]
    },
    {
      "cell_type": "markdown",
      "source": [
        "Cell will give us an 'while' and 'else' statment. When choosing our options from the menu it should return questions. For option 1 these are what we get in\n",
        "response.\n",
        "\n",
        "\n",
        "---\n",
        "\n",
        "\n"
      ],
      "metadata": {
        "id": "kjJCLmr7Qixh"
      }
    },
    {
      "cell_type": "code",
      "execution_count": 132,
      "metadata": {
        "collapsed": true,
        "id": "lN3XetzYqdcN",
        "colab": {
          "base_uri": "https://localhost:8080/"
        },
        "outputId": "fccc0b81-1267-4240-d3f5-f53cb7f15063"
      },
      "outputs": [
        {
          "output_type": "stream",
          "name": "stdout",
          "text": [
            "\n",
            "Menu:\n",
            "1 -Create new friend record\n",
            "2 - Search for a friend\n",
            "3 - Edit a friend\n",
            "4 - Delete a friend\n",
            "5 - Run reports\n",
            "6 - Exit\n",
            "Enter your choice (1-6): 1\n",
            "Enter first name: John\n",
            "Enter last name: Smith\n",
            "Friend added: [ John Smith] \n",
            "Current friends list:\n",
            "-[ Alex Tamayo]\n",
            "-[ Obi Iheme]\n",
            "-[ Aryn Burke]\n",
            "-[ Nicole Tamayo]\n",
            "-[ Haley Hudson]\n",
            "-[ Kevin Loch]\n",
            "-[ John Smith]\n",
            "\n",
            "Menu:\n",
            "1 -Create new friend record\n",
            "2 - Search for a friend\n",
            "3 - Edit a friend\n",
            "4 - Delete a friend\n",
            "5 - Run reports\n",
            "6 - Exit\n",
            "Enter your choice (1-6): 6\n",
            "Exiting program.\n"
          ]
        }
      ],
      "source": [
        "while True:\n",
        "  show_menu()\n",
        "  choice = input(\"Enter your choice (1-6): \")\n",
        "\n",
        "  if choice == \"1\":\n",
        "    first_name = input(\"Enter first name: \") # We are doing this because we are adding a fake friend\n",
        "    last_name = input(\"Enter last name: \")\n",
        "    new_friend_added = Person(first_name, last_name)\n",
        "    friends.append(new_friend_added) # This command saves the new friend\n",
        "\n",
        "    # After we save our friend, the prompt should show us the first and last name of new friend\n",
        "    # I also added for it to show us our whole friends list too, to make sure new friend is saved.\n",
        "    print(f\"Friend added: {new_friend_added} \")\n",
        "    print(\"Current friends list:\")\n",
        "    for f in friends:\n",
        "      print(f\"-{f}\") # Here we are asking for our printed object string (our friends) and the\n",
        "                    # {f} prints the person command\n",
        "\n",
        "  elif choice == \"2\":\n",
        "    print(\"Search for a friend- (not created yet)\")\n",
        "\n",
        "  elif choice ==\"3\":\n",
        "    print(\"Edit a friend-(not created yet)\")\n",
        "\n",
        "  elif choice == \"4\":\n",
        "    print(\"Delete a friend-(not created yet)\")\n",
        "\n",
        "  elif choice == \"5\":\n",
        "    print(\"Run reports-(not created yet)\")\n",
        "\n",
        "  elif choice == \"6\":\n",
        "    print(\"Exiting program.\")\n",
        "    break # Take us out of the program\n",
        "  else:\n",
        "    print(\"Invalid choice. Please try again.\")\n",
        "     # If we choose anything that is not in our menu, we get try again prompts"
      ]
    },
    {
      "cell_type": "markdown",
      "source": [
        "After we save our friend, the prompt should show us the first and last name of new friend.\n"
      ],
      "metadata": {
        "id": "s9Cv0TmDQ-tw"
      }
    },
    {
      "cell_type": "code",
      "source": [
        "    print(\"Current friends list:\")\n",
        "    for f in friends:\n",
        "      print(f\"-{f}\") # Here we are asking for our printed object string (our friends) and the\n",
        "                     # {f} prints the person command\n"
      ],
      "metadata": {
        "collapsed": true,
        "id": "xWgVxch4RF8v",
        "colab": {
          "base_uri": "https://localhost:8080/"
        },
        "outputId": "8bff3c0f-5fcb-4666-eb6d-8589c44c2ef4"
      },
      "execution_count": 133,
      "outputs": [
        {
          "output_type": "stream",
          "name": "stdout",
          "text": [
            "Current friends list:\n",
            "-[ Alex Tamayo]\n",
            "-[ Obi Iheme]\n",
            "-[ Aryn Burke]\n",
            "-[ Nicole Tamayo]\n",
            "-[ Haley Hudson]\n",
            "-[ Kevin Loch]\n",
            "-[ John Smith]\n"
          ]
        }
      ]
    },
    {
      "cell_type": "code",
      "source": [],
      "metadata": {
        "id": "c8lutv601PVG"
      },
      "execution_count": null,
      "outputs": []
    },
    {
      "cell_type": "markdown",
      "source": [
        "### **Menu choice 2**\n",
        "---\n",
        "##### We are moving on to choice 2; where we should be able to search for a friend.\n",
        "\n",
        "---\n",
        "\n"
      ],
      "metadata": {
        "id": "0HXO-Q9VR_EN"
      }
    },
    {
      "cell_type": "code",
      "source": [
        "while True: # Starts our loop until we exit\n",
        "  show_menu()\n",
        "  choice = input(\"Enter your choice (1-6): \") # Pulling up menu choices\n",
        "\n",
        "  if choice == \"2\": # Choose option 2\n",
        "    first_name = input(\"Enter first name: \") # Choose the friend name\n",
        "    last_name = input(\"Enter last name: \")\n",
        "    friend_found = None # if friend is not found\n",
        "    # It should return this command, their whole name...\n",
        "\n",
        "# Now what if we searched up a friend that does not exist? The response should come out as\n",
        "# nothing and take us back to the menu before exiting program..\n",
        "    for friend in friends:  # Becomes a loop because of the 'for' and 'in' statements\n",
        "      if friend.first_name == first_name and friend.last_name == last_name:\n",
        "        friend_found = friend\n",
        "        break # Ends if friend found\n",
        "\n",
        "    if friend_found:\n",
        "      print(f\"Friend found: {friend_found}\")\n",
        "    else:\n",
        "      print(\"Person does not exist. Please try again.\")\n",
        "  # This break prevents us from going in a loop. Since the command above\n",
        "        # puts us in a loop until an answer is found the break stops it if there is no answer.\n",
        "# Helps us exit with bottom command\n",
        "\n",
        "  elif choice == \"6\":\n",
        "    print(\"Exiting program.\")\n",
        "    break # Take us out of the program\n",
        "  else:\n",
        "    print(\"Invalid choice. Please try again.\")\n",
        "     # If we choose anything that is not in our menu, we get try again prompts\n"
      ],
      "metadata": {
        "collapsed": true,
        "id": "eeoqIeztX_iG",
        "colab": {
          "base_uri": "https://localhost:8080/"
        },
        "outputId": "418a7c0a-b6b2-489e-c6b9-21cf7fd754a3"
      },
      "execution_count": 142,
      "outputs": [
        {
          "output_type": "stream",
          "name": "stdout",
          "text": [
            "\n",
            "Menu:\n",
            "1 -Create new friend record\n",
            "2 - Search for a friend\n",
            "3 - Edit a friend\n",
            "4 - Delete a friend\n",
            "5 - Run reports\n",
            "6 - Exit\n",
            "Enter your choice (1-6): 6\n",
            "Exiting program.\n"
          ]
        }
      ]
    },
    {
      "cell_type": "code",
      "source": [
        "while True: # Starts our loop until we exit\n",
        "  show_menu()\n",
        "  choice = input(\"Enter your choice (1-6): \") # Pulling up menu choices\n",
        "\n",
        "  if choice == \"3\": # Choose option 3\n",
        "    first_name = input(\"Enter first name: \") # Choose the friend name to edit\n",
        "    last_name = input(\"Enter last name: \")\n",
        "    friend_edited = None\n",
        "\n",
        "    for friend in friends:\n",
        "      if friend.first_name == first_name and friend.last_name == last_name:\n",
        "        friend_edited = friend\n",
        "        break\n",
        "\n",
        "    if friend_edited:\n",
        "      print(f\"Friend found: {friend_edited}\")\n",
        "      # --- Editing options will go here ---\n",
        "    else:\n",
        "      print(\"Person does not exist. Please try again.\")\n",
        "\n",
        "  elif choice == \"6\":\n",
        "    print(\"Exiting program.\")\n",
        "    break # Take us out of the program\n",
        "  else:\n",
        "    print(\"Invalid choice. Please try again.\")"
      ],
      "metadata": {
        "colab": {
          "base_uri": "https://localhost:8080/"
        },
        "collapsed": true,
        "id": "ZXHLUSgXaJH5",
        "outputId": "68b9ab4e-c763-4a0c-835b-2f141a9c3fa4"
      },
      "execution_count": 146,
      "outputs": [
        {
          "output_type": "stream",
          "name": "stdout",
          "text": [
            "\n",
            "Menu:\n",
            "1 -Create new friend record\n",
            "2 - Search for a friend\n",
            "3 - Edit a friend\n",
            "4 - Delete a friend\n",
            "5 - Run reports\n",
            "6 - Exit\n",
            "Enter your choice (1-6): 3\n",
            "Enter first name: Alex\n",
            "Enter last name: Tamayo\n",
            "Friend found: [ Alex Tamayo]\n",
            "\n",
            "Menu:\n",
            "1 -Create new friend record\n",
            "2 - Search for a friend\n",
            "3 - Edit a friend\n",
            "4 - Delete a friend\n",
            "5 - Run reports\n",
            "6 - Exit\n",
            "Enter your choice (1-6): 6\n",
            "Exiting program.\n"
          ]
        }
      ]
    },
    {
      "cell_type": "code",
      "source": [],
      "metadata": {
        "id": "23Clv7qsaI4m"
      },
      "execution_count": null,
      "outputs": []
    },
    {
      "cell_type": "markdown",
      "source": [
        "# **Reports**\n",
        "\n",
        "---\n",
        "\n"
      ],
      "metadata": {
        "id": "g16aHj2E5j6r"
      }
    },
    {
      "cell_type": "code",
      "execution_count": 95,
      "metadata": {
        "id": "eQP0g-UoxSko"
      },
      "outputs": [],
      "source": [
        "# This cell will help us run option 3 command.\n",
        "# We should be able to choose from the menu which report we want.\n",
        "\n",
        "def run_reports():\n",
        "  print(\"\\Menu:\")\n",
        "  print(\"3.1-List of friends alphabetically\")\n",
        "  print(\"3.2 - List of friends by upcoming birthdays\")\n",
        "  print(\"3.3 - Mailing labels for friends\")\n",
        "  print(\"3.4 - Return to the previous menu\")"
      ]
    },
    {
      "cell_type": "code",
      "execution_count": 96,
      "metadata": {
        "collapsed": true,
        "id": "QMKeDKtasFRx",
        "colab": {
          "base_uri": "https://localhost:8080/"
        },
        "outputId": "6895aa86-8e76-4aad-e7b8-1efb0ad7fadf"
      },
      "outputs": [
        {
          "output_type": "stream",
          "name": "stdout",
          "text": [
            "\n",
            "Menu:\n",
            "1 -Create new friend record\n",
            "2 - Search for a friend\n",
            "3 - Edit a friend\n",
            "4 - Delete a friend\n",
            "5 - Run reports\n",
            "6 - Exit\n",
            "Enter your choice (1-6): 6\n",
            "Exiting program.\n"
          ]
        }
      ],
      "source": [
        "# In option 3.1, if chosen, it should respond with our friends names\n",
        "# in order of last name to first name. A quick note: It should have our\n",
        "# added \"fake\" friend!\n",
        "while True:\n",
        "  show_menu()\n",
        "  choice = input(\"Enter your choice (1-6): \") # Pulling up main menu\n",
        "\n",
        "  if choice == \"5\":\n",
        "    run_reports()\n",
        "    choice = input(\"Enter your choice (3.1-3.4): \")\n",
        "\n",
        "    if choice == \"3.1\":\n",
        "        print(\"\\n 3.1-List of friends alphabetically:/n\")\n",
        "        sorted_alpha = sorted(friends, key=lambda friend: (friend.last_name, friend.first_name))\n",
        "\n",
        "    for friend in sorted_alpha: # This makes sure our friends list is sorted in alpha order\n",
        "        print(f\"{friend.last_name} {friend.first_name}\") # I made sure to put last name first\n",
        "                                                     # or else it would display\n",
        "                                                     # Ex. Aryn Burke (first to lastname alpha order)\n",
        "  elif choice == \"6\":\n",
        "    print(\"Exiting program.\")\n",
        "    break # Take us out of the program\n",
        "  else:\n",
        "    print(\"Invalid choice. Please try again.\")\n",
        "     # If we choose anything that is not in our menu, we get try again prompts"
      ]
    },
    {
      "cell_type": "markdown",
      "source": [
        "### **Menu option 5 with report 3.2**.\n",
        "\n",
        "---\n",
        "\n",
        "##### This option gives us our friends birthday(s).\n",
        "##### It should tell us the month and day left until their birthday. If we added a fake friend it will respond blank due to none excistent.\n",
        "\n",
        "---\n",
        "\n",
        "\n",
        "\n"
      ],
      "metadata": {
        "id": "nWgp6kWEzMoU"
      }
    },
    {
      "cell_type": "markdown",
      "source": [
        "###**First,** we need to add datetime so it runs acurately\n",
        "\n",
        "---\n",
        "\n"
      ],
      "metadata": {
        "id": "XGbgvBMLACLu"
      }
    },
    {
      "cell_type": "code",
      "source": [
        "from datetime import datetime, date  # today's date\n"
      ],
      "metadata": {
        "id": "WMY1KvfXAB4s"
      },
      "execution_count": 100,
      "outputs": []
    },
    {
      "cell_type": "markdown",
      "source": [],
      "metadata": {
        "id": "JynorZTrPU1o"
      }
    },
    {
      "cell_type": "markdown",
      "source": [
        "###**Next,** we input the correct objects for datetime\n",
        "\n",
        "---\n",
        "###### We need this so that when we run the 3.2 report we get back birthday and how many days are left if it passed"
      ],
      "metadata": {
        "id": "Xv3gYGCjAgBu"
      }
    },
    {
      "cell_type": "code",
      "source": [
        "def days_until(self):\n",
        "  today = date.today() # Gets the current date on when this application is run\n",
        "  next_birthday = date(today.year, self.get_month(), self.get_day())\n",
        "\n",
        "  # Code creates a date object so that it can\n",
        "  # Run and gives us an estimate on how much is left for set bday.\n",
        "\n",
        "  if next_birthday < today:\n",
        "    next_birthday = date(today.year + 1, self.get_month(), self.get_day())\n",
        "  # Code adds a year to 'today.year'...only if birthday has already passed in this current year.\n",
        "  # Need to use get. command to access\n",
        "    days_left = (next_birthday - today).days\n",
        "  # Starts the calculation on how many days left from todays date\n",
        "  # by using the \"\".date\" that gives the numbers.\n",
        "  return days_left"
      ],
      "metadata": {
        "id": "wuIyfKNx7GaU"
      },
      "execution_count": 102,
      "outputs": []
    },
    {
      "cell_type": "markdown",
      "source": [
        "### This code lets us see our friends birthday in order.\n",
        "\n",
        "---\n",
        "\n",
        "\n"
      ],
      "metadata": {
        "id": "BLDym6NUBR91"
      }
    },
    {
      "cell_type": "code",
      "execution_count": 121,
      "metadata": {
        "collapsed": true,
        "id": "G7WiGNaC2svs",
        "colab": {
          "base_uri": "https://localhost:8080/"
        },
        "outputId": "b9fc1ead-475d-49c2-fa41-eb0da061d1a5"
      },
      "outputs": [
        {
          "output_type": "stream",
          "name": "stdout",
          "text": [
            "\n",
            "Menu:\n",
            "1 -Create new friend record\n",
            "2 - Search for a friend\n",
            "3 - Edit a friend\n",
            "4 - Delete a friend\n",
            "5 - Run reports\n",
            "6 - Exit\n",
            "Enter your choice (1-6): 6\n",
            "Exiting program.\n"
          ]
        }
      ],
      "source": [
        "while True:\n",
        "  show_menu()\n",
        "  choice = input(\"Enter your choice (1-6): \") # Pulling up main menu\n",
        "\n",
        "  if choice == \"5\":\n",
        "    run_reports()\n",
        "    report_choice = input(\"Enter your choice (3.1-3.4): \")\n",
        "\n",
        "    if report_choice == \"3.2\":\n",
        "      print(\"\\n 3.2-List of friends upcoming birthdays:/n\")\n",
        "# This will give our friends with birthdays and ensure birthday is not None\n",
        "      friends_with_birthdays = [f for f in friends if f._birthday is not None and isinstance(f._birthday, Birthday)]\n",
        "\n",
        "# This is our sorted birthdays!\n",
        "      sorted_birthday = sorted(friends_with_birthdays, key=lambda friend: (friend._birthday.get_month(), friend._birthday.get_day()))\n",
        "\n",
        "      for friend in sorted_birthday:\n",
        "          print(f\"{friend.first_name} {friend.last_name}- Birthday: {friend._birthday.get_month()}/{friend._birthday.get_day()} (in {friend._birthday.days_until()} days)\")\n",
        "\n",
        "    elif report_choice == \"3.4\":\n",
        "        print(\"Returning to the previous menu.\")\n",
        "        continue # Go back to the main menu\n",
        "    else:\n",
        "        print(\"Invalid report choice. Please try again.\")\n",
        "\n",
        "  elif choice == \"6\":\n",
        "    print(\"Exiting program.\")\n",
        "    break # Take us out of the program\n",
        "  else:\n",
        "    print(\"Invalid choice. Please try again.\")\n",
        "     # If we choose anything that is not in our menu, we get try again prompts"
      ]
    },
    {
      "cell_type": "code",
      "metadata": {
        "id": "WqwW2WldNhgA"
      },
      "source": [],
      "execution_count": null,
      "outputs": []
    },
    {
      "cell_type": "code",
      "metadata": {
        "id": "KyLiMKx6hh6-"
      },
      "source": [],
      "execution_count": null,
      "outputs": []
    }
  ],
  "metadata": {
    "colab": {
      "provenance": [],
      "authorship_tag": "ABX9TyMeWiER4VTGiH3ZZ5fpJqIW",
      "include_colab_link": true
    },
    "kernelspec": {
      "display_name": "Python 3",
      "name": "python3"
    },
    "language_info": {
      "name": "python"
    }
  },
  "nbformat": 4,
  "nbformat_minor": 0
}